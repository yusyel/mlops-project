{
 "cells": [
  {
   "cell_type": "code",
   "execution_count": 13,
   "metadata": {},
   "outputs": [],
   "source": [
    "import pymongo"
   ]
  },
  {
   "cell_type": "code",
   "execution_count": 14,
   "metadata": {},
   "outputs": [],
   "source": [
    "client = pymongo.MongoClient('mongodb://localhost:27018')"
   ]
  },
  {
   "cell_type": "code",
   "execution_count": 15,
   "metadata": {},
   "outputs": [],
   "source": [
    "db = client.get_database(\"prediction_service\")"
   ]
  },
  {
   "cell_type": "code",
   "execution_count": 16,
   "metadata": {},
   "outputs": [],
   "source": [
    "data_collection = db.get_collection(\"data\")"
   ]
  },
  {
   "cell_type": "code",
   "execution_count": 17,
   "metadata": {},
   "outputs": [],
   "source": [
    "data = list(data_collection.find())"
   ]
  },
  {
   "cell_type": "code",
   "execution_count": 20,
   "metadata": {},
   "outputs": [
    {
     "data": {
      "text/plain": [
       "{'_id': ObjectId('62ec4b23dcdf1fd80ad90a09'),\n",
       " 'male': '0',\n",
       " 'age': 54,\n",
       " 'education': '1.0',\n",
       " 'currentsmoker': '0',\n",
       " 'cigsperday': 0.0,\n",
       " 'bpmeds': '0.0',\n",
       " 'prevalentstroke': '1',\n",
       " 'prevalenthyp': '1',\n",
       " 'diabetes': '0',\n",
       " 'totchol': 315.0,\n",
       " 'sysbp': 176.0,\n",
       " 'diabp': 87.0,\n",
       " 'bmi': 29.23,\n",
       " 'heartrate': 82.0,\n",
       " 'glucose': 72.0,\n",
       " 'prediction': 0.22498079011479646}"
      ]
     },
     "execution_count": 20,
     "metadata": {},
     "output_type": "execute_result"
    }
   ],
   "source": [
    "data[0]"
   ]
  },
  {
   "cell_type": "code",
   "execution_count": null,
   "metadata": {},
   "outputs": [],
   "source": []
  }
 ],
 "metadata": {
  "kernelspec": {
   "display_name": "Python 3.9.2 ('prediction-YXQuRYpq')",
   "language": "python",
   "name": "python3"
  },
  "language_info": {
   "codemirror_mode": {
    "name": "ipython",
    "version": 3
   },
   "file_extension": ".py",
   "mimetype": "text/x-python",
   "name": "python",
   "nbconvert_exporter": "python",
   "pygments_lexer": "ipython3",
   "version": "3.9.2"
  },
  "orig_nbformat": 4,
  "vscode": {
   "interpreter": {
    "hash": "3dccf938e5ad9bad61af26c31c273c4069e65e60e54ba4362ef69032b900e0be"
   }
  }
 },
 "nbformat": 4,
 "nbformat_minor": 2
}
